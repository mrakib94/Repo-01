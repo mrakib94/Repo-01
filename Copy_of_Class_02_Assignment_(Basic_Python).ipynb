{
  "cells": [
    {
      "cell_type": "markdown",
      "metadata": {
        "id": "view-in-github",
        "colab_type": "text"
      },
      "source": [
        "<a href=\"https://colab.research.google.com/github/mrakib94/github-files/blob/main/Copy_of_Class_02_Assignment_(Basic_Python).ipynb\" target=\"_parent\"><img src=\"https://colab.research.google.com/assets/colab-badge.svg\" alt=\"Open In Colab\"/></a>"
      ]
    },
    {
      "cell_type": "markdown",
      "id": "9818ffc8",
      "metadata": {
        "id": "9818ffc8"
      },
      "source": [
        "# Python Practice Problems"
      ]
    },
    {
      "cell_type": "markdown",
      "id": "92c96f2f",
      "metadata": {
        "id": "92c96f2f"
      },
      "source": [
        "### 1. Find the Largest of Two Numbers\n",
        "**Task:** Given two numbers, find the larger one.  \n",
        "**Demo Input:**  5 and 6 <br>\n",
        "**Output:** 6\n"
      ]
    },
    {
      "cell_type": "code",
      "execution_count": null,
      "id": "15c848cf",
      "metadata": {
        "id": "15c848cf",
        "outputId": "336a0830-a01b-49a4-99cf-95a58d20e9b1",
        "colab": {
          "base_uri": "https://localhost:8080/"
        }
      },
      "outputs": [
        {
          "output_type": "stream",
          "name": "stdout",
          "text": [
            "Enter the second number: 43\n",
            "The larger number is: 43.0\n"
          ]
        }
      ],
      "source": [
        "def find_larger_number(a, b):\n",
        "    if a > b:\n",
        "        return a\n",
        "    elif b > a:\n",
        "        return b\n",
        "    else:\n",
        "        return \"Both numbers are equal\"\n",
        "\n",
        "# Example usage\n",
        "num1 = float(input(\"Enter the first number: \"))\n",
        "num2 = float(input(\"Enter the second number: \"))\n",
        "\n",
        "larger_number = find_larger_number(num1, num2)\n",
        "print(f\"The larger number is: {larger_number}\")\n"
      ]
    },
    {
      "cell_type": "markdown",
      "id": "c8c1c683",
      "metadata": {
        "id": "c8c1c683"
      },
      "source": [
        "### 2. Print Numbers from 1 to N\n",
        "**Task**: Given a number `n`, print all numbers from 1 to `n`. <br>\n",
        "**Demo Input**: `5`  <br>\n",
        "**Demo Output**:  1 2 3 4 5\n"
      ]
    },
    {
      "cell_type": "code",
      "execution_count": null,
      "id": "4f9f4529",
      "metadata": {
        "id": "4f9f4529",
        "outputId": "623be77b-24fa-4eb9-d530-291f48664ce5",
        "colab": {
          "base_uri": "https://localhost:8080/"
        }
      },
      "outputs": [
        {
          "output_type": "stream",
          "name": "stdout",
          "text": [
            "Enter a number: 10\n",
            "1 2 3 4 5 6 7 8 9 10 \n"
          ]
        }
      ],
      "source": [
        "# Input: Number from the user\n",
        "n = int(input(\"Enter a number: \"))\n",
        "\n",
        "# Loop to print numbers from 1 to n\n",
        "for i in range(1, n + 1):\n",
        "    print(i, end=' ')\n",
        "\n",
        "print()  # To ensure the output ends with a newline\n",
        "\n"
      ]
    },
    {
      "cell_type": "markdown",
      "id": "899df468",
      "metadata": {
        "id": "899df468"
      },
      "source": [
        "### 3. Check if a Number is Positive or Negative\n",
        "**Task**: Determine if the input number is positive, negative, or zero.  \n",
        "**Demo Input**: `-3`  \n",
        "**Demo Output**: `The number is Negative`"
      ]
    },
    {
      "cell_type": "code",
      "execution_count": null,
      "id": "56ae285e",
      "metadata": {
        "id": "56ae285e"
      },
      "outputs": [],
      "source": [
        "# Input: Number from the user\n",
        "num = float(input(\"Enter a number: \"))\n",
        "\n",
        "# Check if the number is positive, negative, or zero\n",
        "if num > 0:\n",
        "    print(\"The number is Positive\")\n",
        "elif num < 0:\n",
        "    print(\"The number is Negative\")\n",
        "else:\n",
        "    print(\"The number is Zero\")\n"
      ]
    },
    {
      "cell_type": "markdown",
      "id": "9d865d12",
      "metadata": {
        "id": "9d865d12"
      },
      "source": [
        "### 4. Calculate the Sum of Digits\n",
        "**Task**: Given a number, find the sum of its digits.  \n",
        "**Demo Input**: `123`  \n",
        "**Demo Output**: `6`  \n",
        "(Explanation: `1+2+3=6`)"
      ]
    },
    {
      "cell_type": "code",
      "execution_count": null,
      "id": "c28b2c6c",
      "metadata": {
        "id": "c28b2c6c"
      },
      "outputs": [],
      "source": [
        "# Function to find the sum of the digits of a number\n",
        "def sum_of_digits(number):\n",
        "    sum_digits = 0\n",
        "    while number > 0:\n",
        "        sum_digits += number % 10\n",
        "        number = number // 10\n",
        "    return sum_digits\n",
        "\n",
        "# Input: Number from the user\n",
        "number = int(input(\"Enter a number: \"))\n",
        "\n",
        "# Calculate the sum of its digits\n",
        "result = sum_of_digits(number)\n",
        "\n",
        "# Display the result\n",
        "print(f\"The sum of the digits is: {result}\")\n"
      ]
    },
    {
      "cell_type": "markdown",
      "id": "a970046f",
      "metadata": {
        "id": "a970046f"
      },
      "source": [
        "### 5. Find Factorial of a Number\n",
        "**Task**: Calculate the factorial of a given number.  \n",
        "**Demo Input**: `4`  \n",
        "**Demo Output**: `24`  \n",
        "(Explanation: `4! = 4*3*2*1 = 24`)"
      ]
    },
    {
      "cell_type": "code",
      "execution_count": 1,
      "id": "fd5966d2",
      "metadata": {
        "id": "fd5966d2",
        "colab": {
          "base_uri": "https://localhost:8080/"
        },
        "outputId": "973e7a60-fb9e-43dd-9c52-cb492c19fa65"
      },
      "outputs": [
        {
          "output_type": "stream",
          "name": "stdout",
          "text": [
            "Enter a number: 23\n",
            "The factorial of 23 is: 25852016738884976640000\n"
          ]
        }
      ],
      "source": [
        "def factorial(n):\n",
        "    result = 1\n",
        "    for i in range(1, n + 1):\n",
        "        result *= i  # Multiply result by i\n",
        "    return result\n",
        "\n",
        "# Example usage\n",
        "n = int(input(\"Enter a number: \"))\n",
        "if n < 0:\n",
        "    print(\"Factorial is not defined for negative numbers.\")\n",
        "else:\n",
        "    result = factorial(n)\n",
        "    print(f\"The factorial of {n} is: {result}\")\n"
      ]
    },
    {
      "cell_type": "markdown",
      "id": "c8798099",
      "metadata": {
        "id": "c8798099"
      },
      "source": [
        "### 6. Count Occurrences of a Digit\n",
        "**Task**: Count how many times a specific digit appears max in a number.  \n",
        "**Demo Input**:  1233321 <br>\n",
        "**Demo Output**: `3`  <br>\n",
        "(Explanation: `3` appears 3 times in `1233321`)"
      ]
    },
    {
      "cell_type": "code",
      "execution_count": null,
      "id": "5772f0e6",
      "metadata": {
        "id": "5772f0e6"
      },
      "outputs": [],
      "source": [
        "def count_max_digit_frequency(n):\n",
        "    digit_count = [0] * 10  # List to store count of each digit (0-9)\n",
        "\n",
        "    while n > 0:\n",
        "        digit = n % 10  # Extract the last digit\n",
        "        digit_count[digit] += 1  # Increment the count of that digit\n",
        "        n //= 10  # Remove the last digit from n\n",
        "\n",
        "    max_frequency = max(digit_count)  # Find the maximum frequency of any digit\n",
        "    return max_frequency\n",
        "\n",
        "# Example usage\n",
        "n = int(input(\"Enter a number: \"))\n",
        "result = count_max_digit_frequency(abs(n))  # Use abs() to handle negative numbers\n",
        "print(f\"The maximum frequency of a digit is: {result}\")\n"
      ]
    },
    {
      "cell_type": "markdown",
      "id": "b7f985bc",
      "metadata": {
        "id": "b7f985bc"
      },
      "source": [
        "### 7. Find the GCD of Two Numbers\n",
        "**Task**: Find the greatest common divisor (GCD) of two numbers.  \n",
        "**Demo Input**: 8 and 12 <br>\n",
        "**Demo Output**: `4`"
      ]
    },
    {
      "cell_type": "code",
      "execution_count": null,
      "id": "a467887d",
      "metadata": {
        "id": "a467887d"
      },
      "outputs": [],
      "source": []
    },
    {
      "cell_type": "markdown",
      "id": "14c6a2fd",
      "metadata": {
        "id": "14c6a2fd"
      },
      "source": [
        "### 8. Reverse a String\n",
        "**Task**: Reverse the given string.  \n",
        "**Demo Input**: `\"aiquest\"`  \n",
        "**Demo Output**: `\"tseuqia\"`"
      ]
    },
    {
      "cell_type": "code",
      "execution_count": null,
      "id": "bd22e158",
      "metadata": {
        "id": "bd22e158"
      },
      "outputs": [],
      "source": [
        "def reverse_string(s):\n",
        "    return s[::-1]  # Use slicing to reverse the string\n",
        "\n",
        "# Example usage\n",
        "s = input(\"Enter a string: \")\n",
        "reversed_string = reverse_string(s)\n",
        "print(f\"The reversed string is: {reversed_string}\")\n"
      ]
    },
    {
      "cell_type": "markdown",
      "id": "88317dfd",
      "metadata": {
        "id": "88317dfd"
      },
      "source": [
        "### 9. Check Armstrong Number\n",
        "**Task**: Check if a number is an Armstrong number (the sum of its digits raised to the power of the number of digits equals the number).  \n",
        "**Demo Input**: `153`  \n",
        "**Demo Output**: `153 is an Armstrong Number`  \n",
        "(Explanation: \\(1^3 + 5^3 + 3^3 = 153\\))"
      ]
    },
    {
      "cell_type": "code",
      "execution_count": null,
      "id": "2602ff94",
      "metadata": {
        "id": "2602ff94"
      },
      "outputs": [],
      "source": []
    },
    {
      "cell_type": "markdown",
      "id": "0905a3cc",
      "metadata": {
        "id": "0905a3cc"
      },
      "source": [
        "### 10. Generate a Pattern\n",
        "**Task**: Print a pyramid pattern with `n` rows.  \n",
        "**Demo input:** 4 <br>\n",
        "**Output:** You will see the pyramid pattern with 4 rows"
      ]
    },
    {
      "cell_type": "code",
      "execution_count": null,
      "id": "83d8b483",
      "metadata": {
        "id": "83d8b483"
      },
      "outputs": [],
      "source": []
    },
    {
      "cell_type": "markdown",
      "id": "ec723917",
      "metadata": {
        "id": "ec723917"
      },
      "source": [
        "# Good Luck!"
      ]
    }
  ],
  "metadata": {
    "kernelspec": {
      "display_name": "Python 3 (ipykernel)",
      "language": "python",
      "name": "python3"
    },
    "language_info": {
      "codemirror_mode": {
        "name": "ipython",
        "version": 3
      },
      "file_extension": ".py",
      "mimetype": "text/x-python",
      "name": "python",
      "nbconvert_exporter": "python",
      "pygments_lexer": "ipython3",
      "version": "3.9.13"
    },
    "colab": {
      "provenance": [],
      "include_colab_link": true
    }
  },
  "nbformat": 4,
  "nbformat_minor": 5
}